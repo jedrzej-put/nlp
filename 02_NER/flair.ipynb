{
 "cells": [
  {
   "cell_type": "code",
   "execution_count": null,
   "metadata": {
    "id": "4inJhzI0wQmM"
   },
   "outputs": [],
   "source": [
    "!pip install flair"
   ]
  },
  {
   "cell_type": "code",
   "execution_count": 9,
   "metadata": {
    "id": "eK84adKF6GLr"
   },
   "outputs": [
    {
     "name": "stdout",
     "output_type": "stream",
     "text": [
      "2022-06-07 23:51:48,875 File train has 741 questions and 897 answers.\n",
      "2022-06-07 23:51:48,924 File test has 249 questions and 315 answers.\n",
      "2022-06-07 23:51:48,983 File dev has 247 questions and 289 answers.\n",
      "2022-06-07 23:51:48,989 Reading data from C:\\Users\\Lenovo\\.flair\\datasets\\ner_english_stackoverflow\n",
      "2022-06-07 23:51:48,990 Train: C:\\Users\\Lenovo\\.flair\\datasets\\ner_english_stackoverflow\\train.txt\n",
      "2022-06-07 23:51:48,993 Dev: C:\\Users\\Lenovo\\.flair\\datasets\\ner_english_stackoverflow\\dev.txt\n",
      "2022-06-07 23:51:48,995 Test: C:\\Users\\Lenovo\\.flair\\datasets\\ner_english_stackoverflow\\test.txt\n",
      "2022-06-07 23:52:01,038 Filtering empty sentences\n",
      "2022-06-07 23:52:01,094 Corpus: 926 train + 294 dev + 311 test sentences\n",
      "2022-06-07 23:52:01,095 Computing label dictionary. Progress:\n"
     ]
    },
    {
     "name": "stderr",
     "output_type": "stream",
     "text": [
      "926it [00:00, 22106.70it/s]"
     ]
    },
    {
     "name": "stdout",
     "output_type": "stream",
     "text": [
      "2022-06-07 23:52:01,142 Dictionary created for label 'ner' with 20 values: Class (seen 136 times), Application (seen 118 times), User_Interface_Element (seen 109 times), Variable (seen 106 times), Code_Block (seen 92 times), Library (seen 78 times), Function (seen 71 times), Data_Structure (seen 70 times), Language (seen 67 times), Data_Type (seen 36 times), File_Type (seen 34 times), File_Name (seen 34 times), Version (seen 25 times), HTML_XML_Tag (seen 19 times), Operating_System (seen 15 times), Device (seen 12 times), Website (seen 11 times), User_Name (seen 6 times), Algorithm (seen 6 times)\n",
      "\n",
      "\n",
      "Etykiety do wykrycia\n",
      "Dictionary with 20 tags: <unk>, Class, Application, User_Interface_Element, Variable, Code_Block, Library, Function, Data_Structure, Language, Data_Type, File_Type, File_Name, Version, HTML_XML_Tag, Operating_System, Device, Website, User_Name, Algorithm\n"
     ]
    },
    {
     "name": "stderr",
     "output_type": "stream",
     "text": [
      "\n"
     ]
    }
   ],
   "source": [
    "from flair.datasets import NER_ENGLISH_STACKOVERFLOW    \n",
    "\n",
    "corpus = NER_ENGLISH_STACKOVERFLOW().downsample(0.1)   \n",
    "corpus.filter_empty_sentences()                         \n",
    "\n",
    "label_type = 'ner'   \n",
    "label_dict = corpus.make_label_dictionary(label_type=label_type)   \n",
    "print('\\n\\nEtykiety do wykrycia')\n",
    "print(label_dict)"
   ]
  },
  {
   "cell_type": "code",
   "execution_count": 8,
   "metadata": {
    "id": "yzCwq37iwFo4"
   },
   "outputs": [],
   "source": [
    "from flair.embeddings import WordEmbeddings, StackedEmbeddings, FlairEmbeddings\n",
    "\n",
    "embeddings = None    \n",
    "\n",
    "glove_embedding = WordEmbeddings('glove')\n",
    "flair_embedding_forward = FlairEmbeddings('news-forward')\n",
    "\n",
    "embeddings = StackedEmbeddings([\n",
    "                                glove_embedding,\n",
    "                                flair_embedding_forward\n",
    "                               ])"
   ]
  },
  {
   "cell_type": "markdown",
   "metadata": {
    "id": "6Wxgw7Uc91e3"
   },
   "source": [
    "# Tagger i trainer\n"
   ]
  },
  {
   "cell_type": "code",
   "execution_count": 4,
   "metadata": {
    "id": "ZqglzMPP92Fq"
   },
   "outputs": [
    {
     "name": "stdout",
     "output_type": "stream",
     "text": [
      "2022-06-07 23:39:38,700 SequenceTagger predicts: Dictionary with 77 tags: O, S-Class, B-Class, E-Class, I-Class, S-Application, B-Application, E-Application, I-Application, S-Variable, B-Variable, E-Variable, I-Variable, S-User_Interface_Element, B-User_Interface_Element, E-User_Interface_Element, I-User_Interface_Element, S-Language, B-Language, E-Language, I-Language, S-Function, B-Function, E-Function, I-Function, S-Code_Block, B-Code_Block, E-Code_Block, I-Code_Block, S-Library, B-Library, E-Library, I-Library, S-Data_Structure, B-Data_Structure, E-Data_Structure, I-Data_Structure, S-File_Type, B-File_Type, E-File_Type, I-File_Type, S-Data_Type, B-Data_Type, E-Data_Type, I-Data_Type, S-File_Name, B-File_Name, E-File_Name, I-File_Name, S-HTML_XML_Tag\n",
      "2022-06-07 23:39:38,882 ----------------------------------------------------------------------------------------------------\n",
      "2022-06-07 23:39:38,886 Model: \"SequenceTagger(\n",
      "  (embeddings): StackedEmbeddings(\n",
      "    (list_embedding_0): WordEmbeddings(\n",
      "      'glove'\n",
      "      (embedding): Embedding(400001, 100)\n",
      "    )\n",
      "    (list_embedding_1): FlairEmbeddings(\n",
      "      (lm): LanguageModel(\n",
      "        (drop): Dropout(p=0.05, inplace=False)\n",
      "        (encoder): Embedding(300, 100)\n",
      "        (rnn): LSTM(100, 2048)\n",
      "        (decoder): Linear(in_features=2048, out_features=300, bias=True)\n",
      "      )\n",
      "    )\n",
      "  )\n",
      "  (word_dropout): WordDropout(p=0.05)\n",
      "  (locked_dropout): LockedDropout(p=0.5)\n",
      "  (embedding2nn): Linear(in_features=2148, out_features=2148, bias=True)\n",
      "  (rnn): LSTM(2148, 256, batch_first=True, bidirectional=True)\n",
      "  (linear): Linear(in_features=512, out_features=79, bias=True)\n",
      "  (loss_function): ViterbiLoss()\n",
      "  (crf): CRF()\n",
      ")\"\n",
      "2022-06-07 23:39:38,893 ----------------------------------------------------------------------------------------------------\n",
      "2022-06-07 23:39:38,897 Corpus: \"Corpus: 926 train + 294 dev + 311 test sentences\"\n",
      "2022-06-07 23:39:38,901 ----------------------------------------------------------------------------------------------------\n",
      "2022-06-07 23:39:38,906 Parameters:\n",
      "2022-06-07 23:39:38,910  - learning_rate: \"0.100000\"\n",
      "2022-06-07 23:39:38,914  - mini_batch_size: \"32\"\n",
      "2022-06-07 23:39:38,919  - patience: \"3\"\n",
      "2022-06-07 23:39:38,924  - anneal_factor: \"0.5\"\n",
      "2022-06-07 23:39:38,927  - max_epochs: \"5\"\n",
      "2022-06-07 23:39:38,932  - shuffle: \"True\"\n",
      "2022-06-07 23:39:38,936  - train_with_dev: \"False\"\n",
      "2022-06-07 23:39:38,942  - batch_growth_annealing: \"False\"\n",
      "2022-06-07 23:39:38,944 ----------------------------------------------------------------------------------------------------\n",
      "2022-06-07 23:39:38,946 Model training base path: \"resources\\taggers\\example-upos\"\n",
      "2022-06-07 23:39:38,947 ----------------------------------------------------------------------------------------------------\n",
      "2022-06-07 23:39:38,948 Device: cpu\n",
      "2022-06-07 23:39:38,949 ----------------------------------------------------------------------------------------------------\n",
      "2022-06-07 23:39:38,951 Embeddings storage mode: cpu\n",
      "2022-06-07 23:39:38,952 ----------------------------------------------------------------------------------------------------\n",
      "2022-06-07 23:39:49,258 epoch 1 - iter 2/29 - loss 3.93889374 - samples/sec: 6.21 - lr: 0.100000\n",
      "2022-06-07 23:39:55,978 epoch 1 - iter 4/29 - loss 2.75494095 - samples/sec: 9.53 - lr: 0.100000\n",
      "2022-06-07 23:40:09,870 epoch 1 - iter 6/29 - loss 1.95947878 - samples/sec: 4.61 - lr: 0.100000\n",
      "2022-06-07 23:40:23,356 epoch 1 - iter 8/29 - loss 1.69662988 - samples/sec: 4.75 - lr: 0.100000\n",
      "2022-06-07 23:40:39,122 epoch 1 - iter 10/29 - loss 1.48814813 - samples/sec: 4.06 - lr: 0.100000\n",
      "2022-06-07 23:40:50,955 epoch 1 - iter 12/29 - loss 1.31247843 - samples/sec: 5.41 - lr: 0.100000\n",
      "2022-06-07 23:41:05,276 epoch 1 - iter 14/29 - loss 1.21943387 - samples/sec: 4.47 - lr: 0.100000\n",
      "2022-06-07 23:41:14,464 epoch 1 - iter 16/29 - loss 1.18072507 - samples/sec: 6.97 - lr: 0.100000\n",
      "2022-06-07 23:41:33,225 epoch 1 - iter 18/29 - loss 1.10647857 - samples/sec: 3.41 - lr: 0.100000\n",
      "2022-06-07 23:41:48,687 epoch 1 - iter 20/29 - loss 1.07214057 - samples/sec: 4.14 - lr: 0.100000\n",
      "2022-06-07 23:41:59,185 epoch 1 - iter 22/29 - loss 1.02392021 - samples/sec: 6.10 - lr: 0.100000\n",
      "2022-06-07 23:42:16,550 epoch 1 - iter 24/29 - loss 0.98075701 - samples/sec: 3.69 - lr: 0.100000\n",
      "2022-06-07 23:42:32,667 epoch 1 - iter 26/29 - loss 0.96055200 - samples/sec: 3.97 - lr: 0.100000\n",
      "2022-06-07 23:42:46,713 epoch 1 - iter 28/29 - loss 0.93319801 - samples/sec: 4.56 - lr: 0.100000\n",
      "2022-06-07 23:42:55,625 ----------------------------------------------------------------------------------------------------\n",
      "2022-06-07 23:42:55,627 EPOCH 1 done: loss 0.9179 - lr 0.100000\n"
     ]
    },
    {
     "name": "stderr",
     "output_type": "stream",
     "text": [
      "100%|██████████| 10/10 [00:48<00:00,  4.83s/it]"
     ]
    },
    {
     "name": "stdout",
     "output_type": "stream",
     "text": [
      "2022-06-07 23:43:43,908 Evaluating as a multi-label problem: False\n",
      "2022-06-07 23:43:43,931 DEV : loss 0.5336501598358154 - f1-score (micro avg)  0.0115\n",
      "2022-06-07 23:43:43,970 BAD EPOCHS (no improvement): 0\n",
      "2022-06-07 23:43:43,972 saving best model\n"
     ]
    },
    {
     "name": "stderr",
     "output_type": "stream",
     "text": [
      "\n"
     ]
    },
    {
     "name": "stdout",
     "output_type": "stream",
     "text": [
      "2022-06-07 23:43:45,206 ----------------------------------------------------------------------------------------------------\n",
      "2022-06-07 23:43:50,896 epoch 2 - iter 2/29 - loss 0.66011310 - samples/sec: 11.25 - lr: 0.100000\n",
      "2022-06-07 23:43:55,053 epoch 2 - iter 4/29 - loss 0.64849152 - samples/sec: 15.41 - lr: 0.100000\n",
      "2022-06-07 23:43:59,822 epoch 2 - iter 6/29 - loss 0.63061374 - samples/sec: 13.43 - lr: 0.100000\n",
      "2022-06-07 23:44:02,634 epoch 2 - iter 8/29 - loss 0.61207693 - samples/sec: 22.79 - lr: 0.100000\n",
      "2022-06-07 23:44:07,028 epoch 2 - iter 10/29 - loss 0.55852143 - samples/sec: 14.58 - lr: 0.100000\n",
      "2022-06-07 23:44:14,602 epoch 2 - iter 12/29 - loss 0.60288945 - samples/sec: 8.45 - lr: 0.100000\n",
      "2022-06-07 23:44:19,725 epoch 2 - iter 14/29 - loss 0.62301566 - samples/sec: 12.50 - lr: 0.100000\n",
      "2022-06-07 23:44:23,564 epoch 2 - iter 16/29 - loss 0.61935900 - samples/sec: 16.68 - lr: 0.100000\n",
      "2022-06-07 23:44:27,949 epoch 2 - iter 18/29 - loss 0.61164545 - samples/sec: 14.60 - lr: 0.100000\n",
      "2022-06-07 23:44:31,893 epoch 2 - iter 20/29 - loss 0.60473209 - samples/sec: 16.24 - lr: 0.100000\n",
      "2022-06-07 23:44:39,761 epoch 2 - iter 22/29 - loss 0.59330074 - samples/sec: 8.14 - lr: 0.100000\n",
      "2022-06-07 23:44:43,046 epoch 2 - iter 24/29 - loss 0.59154382 - samples/sec: 19.50 - lr: 0.100000\n",
      "2022-06-07 23:44:48,010 epoch 2 - iter 26/29 - loss 0.58483623 - samples/sec: 12.90 - lr: 0.100000\n",
      "2022-06-07 23:44:51,920 epoch 2 - iter 28/29 - loss 0.57543121 - samples/sec: 16.38 - lr: 0.100000\n",
      "2022-06-07 23:44:55,279 ----------------------------------------------------------------------------------------------------\n",
      "2022-06-07 23:44:55,281 EPOCH 2 done: loss 0.5788 - lr 0.100000\n"
     ]
    },
    {
     "name": "stderr",
     "output_type": "stream",
     "text": [
      "100%|██████████| 10/10 [00:03<00:00,  2.88it/s]"
     ]
    },
    {
     "name": "stdout",
     "output_type": "stream",
     "text": [
      "2022-06-07 23:44:58,758 Evaluating as a multi-label problem: False\n",
      "2022-06-07 23:44:58,784 DEV : loss 0.49623051285743713 - f1-score (micro avg)  0.0102\n"
     ]
    },
    {
     "name": "stderr",
     "output_type": "stream",
     "text": [
      "\n"
     ]
    },
    {
     "name": "stdout",
     "output_type": "stream",
     "text": [
      "2022-06-07 23:44:58,845 BAD EPOCHS (no improvement): 1\n",
      "2022-06-07 23:44:58,848 ----------------------------------------------------------------------------------------------------\n",
      "2022-06-07 23:45:02,017 epoch 3 - iter 2/29 - loss 0.62562556 - samples/sec: 20.22 - lr: 0.100000\n",
      "2022-06-07 23:45:07,908 epoch 3 - iter 4/29 - loss 0.62374746 - samples/sec: 10.87 - lr: 0.100000\n",
      "2022-06-07 23:45:11,407 epoch 3 - iter 6/29 - loss 0.60056997 - samples/sec: 18.30 - lr: 0.100000\n",
      "2022-06-07 23:45:16,145 epoch 3 - iter 8/29 - loss 0.57577959 - samples/sec: 13.52 - lr: 0.100000\n",
      "2022-06-07 23:45:21,977 epoch 3 - iter 10/29 - loss 0.54813117 - samples/sec: 10.98 - lr: 0.100000\n",
      "2022-06-07 23:45:25,712 epoch 3 - iter 12/29 - loss 0.53652490 - samples/sec: 17.15 - lr: 0.100000\n",
      "2022-06-07 23:45:34,693 epoch 3 - iter 14/29 - loss 0.52482816 - samples/sec: 7.13 - lr: 0.100000\n",
      "2022-06-07 23:45:38,549 epoch 3 - iter 16/29 - loss 0.53684032 - samples/sec: 16.61 - lr: 0.100000\n",
      "2022-06-07 23:45:43,356 epoch 3 - iter 18/29 - loss 0.53883711 - samples/sec: 13.32 - lr: 0.100000\n",
      "2022-06-07 23:45:48,323 epoch 3 - iter 20/29 - loss 0.53016922 - samples/sec: 12.89 - lr: 0.100000\n",
      "2022-06-07 23:45:54,149 epoch 3 - iter 22/29 - loss 0.52973234 - samples/sec: 10.99 - lr: 0.100000\n",
      "2022-06-07 23:45:59,216 epoch 3 - iter 24/29 - loss 0.52347150 - samples/sec: 12.64 - lr: 0.100000\n",
      "2022-06-07 23:46:03,728 epoch 3 - iter 26/29 - loss 0.51876383 - samples/sec: 14.19 - lr: 0.100000\n",
      "2022-06-07 23:46:07,006 epoch 3 - iter 28/29 - loss 0.51474540 - samples/sec: 19.53 - lr: 0.100000\n",
      "2022-06-07 23:46:08,225 ----------------------------------------------------------------------------------------------------\n",
      "2022-06-07 23:46:08,226 EPOCH 3 done: loss 0.5098 - lr 0.100000\n"
     ]
    },
    {
     "name": "stderr",
     "output_type": "stream",
     "text": [
      "100%|██████████| 10/10 [00:03<00:00,  2.80it/s]"
     ]
    },
    {
     "name": "stdout",
     "output_type": "stream",
     "text": [
      "2022-06-07 23:46:11,804 Evaluating as a multi-label problem: False\n",
      "2022-06-07 23:46:11,821 DEV : loss 0.4559979736804962 - f1-score (micro avg)  0.0146\n",
      "2022-06-07 23:46:11,852 BAD EPOCHS (no improvement): 0\n",
      "2022-06-07 23:46:11,854 saving best model\n"
     ]
    },
    {
     "name": "stderr",
     "output_type": "stream",
     "text": [
      "\n"
     ]
    },
    {
     "name": "stdout",
     "output_type": "stream",
     "text": [
      "2022-06-07 23:46:13,104 ----------------------------------------------------------------------------------------------------\n",
      "2022-06-07 23:46:17,449 epoch 4 - iter 2/29 - loss 0.42845491 - samples/sec: 14.74 - lr: 0.100000\n",
      "2022-06-07 23:46:20,593 epoch 4 - iter 4/29 - loss 0.42320544 - samples/sec: 20.38 - lr: 0.100000\n",
      "2022-06-07 23:46:28,064 epoch 4 - iter 6/29 - loss 0.43211729 - samples/sec: 8.57 - lr: 0.100000\n",
      "2022-06-07 23:46:35,698 epoch 4 - iter 8/29 - loss 0.43349269 - samples/sec: 8.39 - lr: 0.100000\n",
      "2022-06-07 23:46:39,294 epoch 4 - iter 10/29 - loss 0.42363082 - samples/sec: 17.82 - lr: 0.100000\n",
      "2022-06-07 23:46:46,033 epoch 4 - iter 12/29 - loss 0.44362015 - samples/sec: 9.50 - lr: 0.100000\n",
      "2022-06-07 23:46:51,284 epoch 4 - iter 14/29 - loss 0.44516110 - samples/sec: 12.20 - lr: 0.100000\n",
      "2022-06-07 23:46:54,960 epoch 4 - iter 16/29 - loss 0.43634634 - samples/sec: 17.43 - lr: 0.100000\n",
      "2022-06-07 23:46:58,043 epoch 4 - iter 18/29 - loss 0.43994050 - samples/sec: 20.79 - lr: 0.100000\n",
      "2022-06-07 23:47:01,122 epoch 4 - iter 20/29 - loss 0.44092322 - samples/sec: 20.81 - lr: 0.100000\n",
      "2022-06-07 23:47:04,779 epoch 4 - iter 22/29 - loss 0.44754497 - samples/sec: 17.52 - lr: 0.100000\n",
      "2022-06-07 23:47:09,093 epoch 4 - iter 24/29 - loss 0.44296527 - samples/sec: 14.84 - lr: 0.100000\n",
      "2022-06-07 23:47:15,511 epoch 4 - iter 26/29 - loss 0.45140115 - samples/sec: 9.97 - lr: 0.100000\n",
      "2022-06-07 23:47:20,048 epoch 4 - iter 28/29 - loss 0.45683582 - samples/sec: 14.12 - lr: 0.100000\n",
      "2022-06-07 23:47:21,873 ----------------------------------------------------------------------------------------------------\n",
      "2022-06-07 23:47:21,876 EPOCH 4 done: loss 0.4612 - lr 0.100000\n"
     ]
    },
    {
     "name": "stderr",
     "output_type": "stream",
     "text": [
      "100%|██████████| 10/10 [00:03<00:00,  2.57it/s]"
     ]
    },
    {
     "name": "stdout",
     "output_type": "stream",
     "text": [
      "2022-06-07 23:47:25,774 Evaluating as a multi-label problem: False\n",
      "2022-06-07 23:47:25,794 DEV : loss 0.4442478120326996 - f1-score (micro avg)  0.0366\n",
      "2022-06-07 23:47:25,836 BAD EPOCHS (no improvement): 0\n",
      "2022-06-07 23:47:25,838 saving best model\n"
     ]
    },
    {
     "name": "stderr",
     "output_type": "stream",
     "text": [
      "\n"
     ]
    },
    {
     "name": "stdout",
     "output_type": "stream",
     "text": [
      "2022-06-07 23:47:27,155 ----------------------------------------------------------------------------------------------------\n",
      "2022-06-07 23:47:30,277 epoch 5 - iter 2/29 - loss 0.37361466 - samples/sec: 20.52 - lr: 0.100000\n",
      "2022-06-07 23:47:33,839 epoch 5 - iter 4/29 - loss 0.40432542 - samples/sec: 17.98 - lr: 0.100000\n",
      "2022-06-07 23:47:36,682 epoch 5 - iter 6/29 - loss 0.41797144 - samples/sec: 22.52 - lr: 0.100000\n",
      "2022-06-07 23:47:40,091 epoch 5 - iter 8/29 - loss 0.41280416 - samples/sec: 18.79 - lr: 0.100000\n",
      "2022-06-07 23:47:45,664 epoch 5 - iter 10/29 - loss 0.41764407 - samples/sec: 11.50 - lr: 0.100000\n",
      "2022-06-07 23:47:52,925 epoch 5 - iter 12/29 - loss 0.42763653 - samples/sec: 8.82 - lr: 0.100000\n",
      "2022-06-07 23:47:58,520 epoch 5 - iter 14/29 - loss 0.43238057 - samples/sec: 11.44 - lr: 0.100000\n",
      "2022-06-07 23:48:03,089 epoch 5 - iter 16/29 - loss 0.43120311 - samples/sec: 14.01 - lr: 0.100000\n",
      "2022-06-07 23:48:09,604 epoch 5 - iter 18/29 - loss 0.43636259 - samples/sec: 9.83 - lr: 0.100000\n",
      "2022-06-07 23:48:13,669 epoch 5 - iter 20/29 - loss 0.42922016 - samples/sec: 15.75 - lr: 0.100000\n",
      "2022-06-07 23:48:19,063 epoch 5 - iter 22/29 - loss 0.43904016 - samples/sec: 11.87 - lr: 0.100000\n",
      "2022-06-07 23:48:23,947 epoch 5 - iter 24/29 - loss 0.44635672 - samples/sec: 13.12 - lr: 0.100000\n",
      "2022-06-07 23:48:29,061 epoch 5 - iter 26/29 - loss 0.43894541 - samples/sec: 12.52 - lr: 0.100000\n",
      "2022-06-07 23:48:34,182 epoch 5 - iter 28/29 - loss 0.43340161 - samples/sec: 12.50 - lr: 0.100000\n",
      "2022-06-07 23:48:35,512 ----------------------------------------------------------------------------------------------------\n",
      "2022-06-07 23:48:35,513 EPOCH 5 done: loss 0.4363 - lr 0.100000\n"
     ]
    },
    {
     "name": "stderr",
     "output_type": "stream",
     "text": [
      "100%|██████████| 10/10 [00:03<00:00,  2.77it/s]"
     ]
    },
    {
     "name": "stdout",
     "output_type": "stream",
     "text": [
      "2022-06-07 23:48:39,137 Evaluating as a multi-label problem: False\n",
      "2022-06-07 23:48:39,156 DEV : loss 0.4185169041156769 - f1-score (micro avg)  0.0604\n",
      "2022-06-07 23:48:39,199 BAD EPOCHS (no improvement): 0\n",
      "2022-06-07 23:48:39,203 saving best model\n"
     ]
    },
    {
     "name": "stderr",
     "output_type": "stream",
     "text": [
      "\n"
     ]
    },
    {
     "name": "stdout",
     "output_type": "stream",
     "text": [
      "2022-06-07 23:48:41,668 ----------------------------------------------------------------------------------------------------\n",
      "2022-06-07 23:48:41,669 loading file resources\\taggers\\example-upos\\best-model.pt\n",
      "2022-06-07 23:48:42,585 SequenceTagger predicts: Dictionary with 79 tags: O, S-Class, B-Class, E-Class, I-Class, S-Application, B-Application, E-Application, I-Application, S-Variable, B-Variable, E-Variable, I-Variable, S-User_Interface_Element, B-User_Interface_Element, E-User_Interface_Element, I-User_Interface_Element, S-Language, B-Language, E-Language, I-Language, S-Function, B-Function, E-Function, I-Function, S-Code_Block, B-Code_Block, E-Code_Block, I-Code_Block, S-Library, B-Library, E-Library, I-Library, S-Data_Structure, B-Data_Structure, E-Data_Structure, I-Data_Structure, S-File_Type, B-File_Type, E-File_Type, I-File_Type, S-Data_Type, B-Data_Type, E-Data_Type, I-Data_Type, S-File_Name, B-File_Name, E-File_Name, I-File_Name, S-HTML_XML_Tag\n"
     ]
    },
    {
     "name": "stderr",
     "output_type": "stream",
     "text": [
      "100%|██████████| 10/10 [00:57<00:00,  5.71s/it]"
     ]
    },
    {
     "name": "stdout",
     "output_type": "stream",
     "text": [
      "2022-06-07 23:49:39,994 Evaluating as a multi-label problem: False\n",
      "2022-06-07 23:49:40,014 0.0943\t0.0139\t0.0242\t0.0132\n",
      "2022-06-07 23:49:40,015 \n",
      "Results:\n",
      "- F-score (micro) 0.0242\n",
      "- F-score (macro) 0.0153\n",
      "- Accuracy 0.0132\n",
      "\n",
      "By class:\n",
      "                        precision    recall  f1-score   support\n",
      "\n",
      "                 Class     0.0000    0.0000    0.0000        55\n",
      "           Application     0.1250    0.0541    0.0755        37\n",
      "              Variable     0.0000    0.0000    0.0000        42\n",
      "            Code_Block     0.0000    0.0000    0.0000        27\n",
      "User_Interface_Element     0.0000    0.0000    0.0000        30\n",
      "              Language     0.2308    0.2000    0.2143        15\n",
      "               Library     0.0000    0.0000    0.0000        26\n",
      "              Function     0.0000    0.0000    0.0000        24\n",
      "             File_Type     0.0000    0.0000    0.0000        16\n",
      "        Data_Structure     0.0000    0.0000    0.0000        17\n",
      "             File_Name     0.0000    0.0000    0.0000        16\n",
      "               Version     0.0000    0.0000    0.0000        14\n",
      "      Operating_System     0.0000    0.0000    0.0000        12\n",
      "             Data_Type     0.0000    0.0000    0.0000        11\n",
      "               Website     0.0000    0.0000    0.0000         7\n",
      "          HTML_XML_Tag     0.0000    0.0000    0.0000         4\n",
      "                Device     0.0000    0.0000    0.0000         4\n",
      "             Algorithm     0.0000    0.0000    0.0000         3\n",
      "             User_Name     0.0000    0.0000    0.0000         1\n",
      "\n",
      "             micro avg     0.0943    0.0139    0.0242       361\n",
      "             macro avg     0.0187    0.0134    0.0153       361\n",
      "          weighted avg     0.0224    0.0139    0.0166       361\n",
      "\n",
      "2022-06-07 23:49:40,015 ----------------------------------------------------------------------------------------------------\n",
      "2022-06-07 23:49:40,019 loading file resources/taggers/example-upos/final-model.pt\n"
     ]
    },
    {
     "name": "stderr",
     "output_type": "stream",
     "text": [
      "\n"
     ]
    },
    {
     "name": "stdout",
     "output_type": "stream",
     "text": [
      "2022-06-07 23:49:40,891 SequenceTagger predicts: Dictionary with 79 tags: O, S-Class, B-Class, E-Class, I-Class, S-Application, B-Application, E-Application, I-Application, S-Variable, B-Variable, E-Variable, I-Variable, S-User_Interface_Element, B-User_Interface_Element, E-User_Interface_Element, I-User_Interface_Element, S-Language, B-Language, E-Language, I-Language, S-Function, B-Function, E-Function, I-Function, S-Code_Block, B-Code_Block, E-Code_Block, I-Code_Block, S-Library, B-Library, E-Library, I-Library, S-Data_Structure, B-Data_Structure, E-Data_Structure, I-Data_Structure, S-File_Type, B-File_Type, E-File_Type, I-File_Type, S-Data_Type, B-Data_Type, E-Data_Type, I-Data_Type, S-File_Name, B-File_Name, E-File_Name, I-File_Name, S-HTML_XML_Tag\n"
     ]
    }
   ],
   "source": [
    "from flair.models import SequenceTagger\n",
    "from flair.trainers import ModelTrainer\n",
    "\n",
    "\n",
    "tagger = SequenceTagger(hidden_size=256,\n",
    "                        embeddings=embeddings,\n",
    "                        tag_dictionary=label_dict,\n",
    "                        tag_type=label_type,\n",
    "                        use_crf=True)    \n",
    "trainer = ModelTrainer(tagger, corpus)   \n",
    "\n",
    "\n",
    "trainer.train('resources/taggers/example-upos',\n",
    "              learning_rate=0.1,\n",
    "              mini_batch_size=32,\n",
    "              max_epochs=5)\n",
    "\n",
    "model = SequenceTagger.load('resources/taggers/example-upos/final-model.pt')\n"
   ]
  },
  {
   "cell_type": "markdown",
   "metadata": {
    "id": "lxrd6m0H_-SJ"
   },
   "source": [
    "# Prediction"
   ]
  },
  {
   "cell_type": "code",
   "execution_count": 5,
   "metadata": {
    "id": "Koq76zqawM3P"
   },
   "outputs": [
    {
     "name": "stdout",
     "output_type": "stream",
     "text": [
      "Sentence: \"huge files can be opened from Python 3 .\" → [\"Python\"/Language]\n"
     ]
    }
   ],
   "source": [
    "from flair.data import Sentence\n",
    "\n",
    "\n",
    "sentence = Sentence('huge files can be opened from Python 3.')   \n",
    "model.predict(sentence)                                         \n",
    "print(sentence.to_tagged_string())                             "
   ]
  },
  {
   "cell_type": "code",
   "execution_count": null,
   "metadata": {
    "id": "zOgY6c2y2eWb"
   },
   "outputs": [],
   "source": []
  }
 ],
 "metadata": {
  "colab": {
   "collapsed_sections": [],
   "name": "lab10.ipynb",
   "provenance": []
  },
  "kernelspec": {
   "display_name": "Python 3",
   "language": "python",
   "name": "python3"
  },
  "language_info": {
   "codemirror_mode": {
    "name": "ipython",
    "version": 3
   },
   "file_extension": ".py",
   "mimetype": "text/x-python",
   "name": "python",
   "nbconvert_exporter": "python",
   "pygments_lexer": "ipython3",
   "version": "3.8.5"
  }
 },
 "nbformat": 4,
 "nbformat_minor": 1
}
